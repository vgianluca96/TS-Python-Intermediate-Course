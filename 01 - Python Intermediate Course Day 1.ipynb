{
 "cells": [
  {
   "cell_type": "markdown",
   "id": "445bdaa5-4e50-44c9-84df-02f7633046d9",
   "metadata": {},
   "source": [
    "**<h1><center>**Python Intermediate Course**</center></h1>**"
   ]
  },
  {
   "cell_type": "markdown",
   "id": "ba2c0a85-c8b4-4cb9-af5e-53576a52fac0",
   "metadata": {},
   "source": [
    "## **Course Overview**\n",
    "\n",
    "### **Goal**\n",
    "This Python Intermediate Course is designed to bridge the gap between foundational knowledge and practical, real-world Python programming. By the end of this course, you will gain the confidence to write efficient, readable, and robust Python code while mastering intermediate-level concepts.\n",
    "\n",
    "### **Focus**\n",
    "- Strengthening foundational skills with a brief recap.\n",
    "- Exploring advanced functions and Python syntax for efficient coding.\n",
    "- Understanding error handling to design resilient programs.\n",
    "- Working with files (text, CSV, JSON) for data processing.\n",
    "- Gaining deeper insights into Python's object-oriented programming.\n",
    "\n",
    "This course emphasizes a hands-on approach, enabling you to apply learned concepts through practical exercises and real-world examples.\n"
   ]
  },
  {
   "cell_type": "markdown",
   "id": "02654bc0-4d4c-40c8-affe-211e3c65999f",
   "metadata": {
    "jp-MarkdownHeadingCollapsed": true
   },
   "source": [
    "### Python Intermediate Course Schedule"
   ]
  },
  {
   "cell_type": "markdown",
   "id": "a26a6ffb-0338-4b52-b1c9-5acffece80e1",
   "metadata": {
    "jp-MarkdownHeadingCollapsed": true
   },
   "source": [
    "<h3><center>Day 1</center></h3>\n",
    "\n",
    "\n",
    "| Time          | Topic                                | Description                          |\n",
    "|---------------|--------------------------------------|--------------------------------------------------|\n",
    "| **9:30**   | Welcome & Python Basics Recap           | Quick overview of Python basics: syntax, data types, loops, and conditionals. |\n",
    "| **10:45**  | Advanced Functions       | \tHigher-order functions (map, filter, reduce), unpacking arguments, and lambda functions. |\n",
    "| **11:15**  | Break                                | Relax and recharge.              |\n",
    "| **11:30**  | File Handling                          | Handling text, CSV, and JSON files.  |\n",
    "| **12:00**  | Python Syntax Deep Dive     | Explore comprehensions (list, set, dict), unpacking operators, and nested loops. |\n",
    "| **12:30**  | Real-World Problem Solving                      | Solve intermediate-level problems using advanced data types and functions. |\n",
    "\n",
    "<h3><center>Day 2</center></h3>\n",
    "\n",
    "| Time          | Topic                               | Description                                                                                      |\n",
    "|---------------|-------------------------------------|--------------|\n",
    "| **9:30**      | Revisiting Object-Oriented Programming | Briefly revisit OOP: focus on practical class structures, inheritance, and custom methods.       |\n",
    "| **10:30**     | Lab Setup                          | Introduce the lab objective: Working with Python and Large Language Models (LLMs). |\n",
    "| **11:00**     | Break                              | Relax and recharge.                                                   |\n",
    "| **11:15**     | Lab: Building an LLM Integration   | Hands-on lab to integrate an LLM with Python.  |\n",
    "| **12:45**     | Lab Wrap-Up and Discussion         | Present and discuss lab outcomes. Troubleshoot challenges and summarize key takeaways.           |\n"
   ]
  },
  {
   "cell_type": "markdown",
   "id": "011b63b2-5d67-4f61-8b60-d5da56093520",
   "metadata": {
    "jp-MarkdownHeadingCollapsed": true
   },
   "source": [
    "# **1. Python Basics Recap**\n",
    "\n",
    "**9:45 |** Quick overview of Python basics: syntax, data types, loops, and conditionals."
   ]
  },
  {
   "cell_type": "markdown",
   "id": "5256e10e-0e95-4595-b1ca-397aa5674910",
   "metadata": {},
   "source": [
    "### **What is Python**\n",
    "\n",
    "Python is a **high-level**, **interpreted** programming language. Designed to emphasize code **readability** and **ease of use** with its clean and straightforward syntax,  making it an excellent choice for both beginners and experienced programmers."
   ]
  },
  {
   "cell_type": "markdown",
   "id": "69ef61aa-65b0-4184-97be-dac43bb0bd73",
   "metadata": {},
   "source": [
    "##### **High-Level Programming Language**\n",
    "\n",
    "A high-level programming language, like Python, is designed to be easy for humans to read and write. It abstracts away the complex details of the computer’s hardware, allowing programmers to focus on solving problems rather than worrying about how the computer executes tasks at a low level. For example, in Python, you can perform operations with simple commands without dealing with memory management or machine-level instructions.\n",
    "\n",
    "Key Characteristics of High-Level Languages:\n",
    "\n",
    "- Readable and close to natural language (English-like syntax).\n",
    "- Handles low-level operations (e.g., memory management) automatically.\n",
    "- Portable across different platforms with minimal changes.\n",
    "\n",
    "---\n",
    "\n",
    "```python\n",
    "# High-level code to read a file and print its contents\n",
    "with open(\"example.txt\", \"r\") as file:\n",
    "    content = file.read()\n",
    "    print(content)\n",
    "```\n",
    "\n",
    "---"
   ]
  },
  {
   "cell_type": "markdown",
   "id": "d71c2458-2f6c-40f1-8550-a069b6b7ecc6",
   "metadata": {},
   "source": [
    "##### **Interpreted Programming Language**\n",
    "\n",
    "Python is an interpreted language, which means that its code is **executed line-by-line** by an interpreter rather than being compiled into machine code beforehand. This allows for immediate feedback, making Python ideal for **prototyping and debugging.**\n",
    "\n",
    "Key Characteristics of Interpreted Languages:\n",
    "\n",
    "- No need for explicit compilation; code runs directly in an interpreter.\n",
    "- Easier to test and debug because errors are identified at runtime.\n",
    "- Slower execution speed compared to compiled languages (e.g., C or C++), but this is often outweighed by development speed and flexibility.\n"
   ]
  },
  {
   "cell_type": "markdown",
   "id": "a3fd2d54-9477-4e90-98df-f0a068099c68",
   "metadata": {},
   "source": [
    "##### **Cross-Platform**\n",
    "Python is a cross-platform language, meaning that Python code can run on multiple operating systems, including Windows, macOS, and Linux, without needing modification. This makes Python highly versatile for developers, as it allows programs to work seamlessly across different environments, enabling easier collaboration and wider application.\n"
   ]
  },
  {
   "cell_type": "markdown",
   "id": "df372192-4ae0-47ec-804d-d78e83368dcb",
   "metadata": {},
   "source": [
    "##### **Extensive Library Support**\n",
    "One of Python's greatest strengths is **its extensive library support**. Python comes with a vast collection of built-in libraries and third-party frameworks, which provide pre-built solutions for common tasks such as web development, data analysis, machine learning, and more. These libraries save developers time by offering ready-to-use functionality, allowing them to focus on building the unique parts of their applications."
   ]
  },
  {
   "cell_type": "markdown",
   "id": "0c02e2be-1d1b-402f-8dff-9c0a0c9ad63b",
   "metadata": {},
   "source": [
    "##### **Open Source**\n",
    "Python is open-source, which means it is **free to use, distribute, and modify**. Its open nature has fostered a large, supportive **community** of developers who contribute to the language's growth. This community-driven approach ensures continuous improvements, bug fixes, and a wealth of shared knowledge, making Python an attractive option for developers worldwide.\n",
    "\n",
    "---"
   ]
  },
  {
   "cell_type": "markdown",
   "id": "0f82ed0b-fe23-4735-b606-946e29d16f20",
   "metadata": {},
   "source": [
    "## **1.1. Data Types and Variables**"
   ]
  },
  {
   "cell_type": "markdown",
   "id": "c299da3f-306f-4d1f-ade7-e89eac6be4c3",
   "metadata": {},
   "source": [
    "A **data type** in programming refers to a classification that specifies the type of value a variable can hold and determines how that value can be used and stored in memory.\n",
    "\n",
    "**Basic Data Types in Python**\n",
    "\n",
    "1. **Integer (`int`)**: Whole numbers (e.g., 1, -3, 42).\n",
    "2. **Float (`float`)**: Numbers with decimals (e.g., 3.14, -0.01).\n",
    "3. **String (`str`)**: Text data, enclosed in quotes (e.g., \"Hello\", 'World').\n",
    "4. **Boolean (`bool`)**: True or False values, used in logical operations.\n",
    "\n",
    "\n",
    "\n",
    "Data types define:\n",
    "\n",
    "- What kind of data can be stored (e.g., numbers, text, boolean values).\n",
    "- What operations can be performed on the data (e.g., addition for numbers, concatenation for strings).\n",
    "- How much memory is allocated for the data.\n",
    "\n",
    "**What Are Variables?**\n",
    "In Python, data is stored in variables. Variables are like containers that hold information, and each type of information has a specific data type.\n",
    " You can think of it as a label for a piece of data.\n",
    "\n",
    "**Syntax:**\n",
    "```python\n",
    "variable_name = value\n",
    "```\n",
    "\n",
    "**Key Notes:**\n",
    "- Data types are **dynamically assigned**, you don’t need to declare the data type in Python; it’s inferred from the value assigned to the variable.\n",
    "- Use `type(variable)` to check a variable's data type.\n"
   ]
  },
  {
   "cell_type": "code",
   "execution_count": null,
   "id": "180b017c",
   "metadata": {},
   "outputs": [],
   "source": [
    "nome = \"Giuseppe\""
   ]
  },
  {
   "cell_type": "code",
   "execution_count": null,
   "id": "0a6e4799",
   "metadata": {},
   "outputs": [],
   "source": [
    "nome"
   ]
  },
  {
   "cell_type": "code",
   "execution_count": null,
   "id": "990c1530",
   "metadata": {},
   "outputs": [],
   "source": [
    "type(nome)"
   ]
  },
  {
   "cell_type": "code",
   "execution_count": null,
   "id": "59383a61",
   "metadata": {},
   "outputs": [],
   "source": []
  },
  {
   "cell_type": "code",
   "execution_count": null,
   "id": "2f2f2010-41f2-45dd-829a-4f7c65c1b826",
   "metadata": {
    "jupyter": {
     "source_hidden": true
    }
   },
   "outputs": [],
   "source": [
    "# Ex 1.1.1: Define basic data types and initialize variables\n",
    "student_name = \"Alice\"  # string\n",
    "student_age = 20        # integer\n",
    "student_grade = 85.5    # float\n",
    "is_passed = student_grade >= 50  # boolean\n",
    "\n",
    "print(f\"Student Name: {student_name}, Age: {student_age}, Grade: {student_grade}, Passed: {is_passed}\")"
   ]
  },
  {
   "cell_type": "markdown",
   "id": "b6499e61-2049-4bc1-a3d0-7b7c9141434f",
   "metadata": {},
   "source": [
    "## **1.2. Basic Python Syntax**"
   ]
  },
  {
   "cell_type": "markdown",
   "id": "c77e4cd3",
   "metadata": {},
   "source": [
    "Python has a **simple and clean** syntax that makes it easy to read and write. This section will cover the basic rules of Python syntax and how to write and run Python code.\n",
    "\n",
    "[PEP 8 – Style Guide for Python Code](https://peps.python.org/pep-0008/)\n",
    "\n",
    "**Basic Syntax Rules in Python**\n",
    "\n",
    "1. **Case Sensitivity**  \n",
    "   - Python is case-sensitive. For example, `Name` and `name` are different variables.\n",
    "\n",
    "2. **Code Execution**  \n",
    "   - Python runs code line by line (top to bottom).\n",
    "\n",
    "3. **Comments**  \n",
    "   - Use `#` to write comments, which are ignored by Python. They are helpful for explaining your code.\n",
    "\n",
    "4. **Indentation**  \n",
    "   - Python uses indentation (spaces or tabs) to define blocks of code. Indentation is mandatory and replaces curly braces `{}` used in other languages.\n",
    "\n",
    "5. **Print Statements**  \n",
    "   - Use the `print()` function to display output."
   ]
  },
  {
   "cell_type": "code",
   "execution_count": null,
   "id": "c97a5f08",
   "metadata": {},
   "outputs": [],
   "source": [
    "import this"
   ]
  },
  {
   "cell_type": "code",
   "execution_count": null,
   "id": "229d8e01",
   "metadata": {
    "jupyter": {
     "source_hidden": true
    }
   },
   "outputs": [],
   "source": [
    "# Ex 1.1.2:  Writing Python code with proper syntax and indentation\n",
    "if is_passed:\n",
    "    print(f\"{student_name} has passed the course.\")\n",
    "else:\n",
    "    print(f\"{student_name} needs to retake the course.\")"
   ]
  },
  {
   "cell_type": "markdown",
   "id": "493c21bc-e9cc-46d1-a870-03244484da43",
   "metadata": {},
   "source": [
    "## **1.3. Operators**"
   ]
  },
  {
   "cell_type": "markdown",
   "id": "2115b0df-1749-4830-8804-5eeb547ff7cc",
   "metadata": {},
   "source": [
    "Operators in Python allow you to perform operations on variables and values. Python supports a variety of operators, including arithmetic, logical, and comparison operators."
   ]
  },
  {
   "cell_type": "markdown",
   "id": "19c1f542-eb11-4486-ae78-1eb82b9d9fbd",
   "metadata": {},
   "source": [
    "### Arithmetic Operators\n",
    "Arithmetic operators are used to perform mathematical operations:\n",
    "\n",
    "| Operator | Description         | Example       |\n",
    "|----------|---------------------|---------------|\n",
    "| `+`      | Addition            | `3 + 5 = 8`  |\n",
    "| `-`      | Subtraction         | `10 - 3 = 7` |\n",
    "| `*`      | Multiplication      | `4 * 2 = 8`  |\n",
    "| `/`      | Division            | `10 / 2 = 5` |\n",
    "| `%`      | Modulus             | `10 % 3 = 1` |\n",
    "| `**`     | Exponentiation      | `2 ** 3 = 8` |\n",
    "| `//`     | Floor Division      | `10 // 3 = 3`|\n",
    "\n",
    "Note:\n",
    "- The modulus operator (%) in Python returns the remainder of dividing two numbers.\n",
    "- Floor division is a mathematical operation that divides two numbers and rounds the result down to the nearest whole number.\n",
    "\n",
    "###\n",
    "Comparison Operators\n",
    "\n",
    "Comparison operators are used to compare two values:\n",
    "\n",
    "| Operator | Description                | Example       |\n",
    "|----------|----------------------------|---------------|\n",
    "| `==`     | Equal to                   | `5 == 5` → True  |\n",
    "| `!=`     | Not equal to               | `5 != 3` → True  |\n",
    "| `>`      | Greater than               | `5 > 3` → True   |\n",
    "| `<`      | Less than                  | `3 < 5` → True   |\n",
    "| `>=`     | Greater than or equal to   | `5 >= 3` → True  |\n",
    "| `<=`     | Less than or equal to      | `3 <= 5` → True  |"
   ]
  },
  {
   "cell_type": "code",
   "execution_count": null,
   "id": "982cc958-1379-43aa-82dd-afecf284a9f7",
   "metadata": {},
   "outputs": [],
   "source": [
    "#  Ex 1.1.3: Arithmetic and logical operations\n",
    "average_grade = (student_grade + 75 + 90) / 3  # arithmetic operator\n",
    "all_passed = is_passed and average_grade >= 50  # logical operator\n",
    "\n",
    "print(f\"Average Grade: {average_grade}\")\n",
    "print(f\"All students passed: {all_passed}\")"
   ]
  },
  {
   "cell_type": "markdown",
   "id": "541a0dd5-8d18-4dc6-89c0-c29726a32227",
   "metadata": {},
   "source": [
    "## **1.4. Conditional Statements and Loops**"
   ]
  },
  {
   "cell_type": "markdown",
   "id": "b78b95ad-8a89-45f2-a05b-c5cfa57a9d4d",
   "metadata": {},
   "source": [
    "Conditional statements and loops are the backbone of decision-making and repetition in programming. Python provides powerful and intuitive ways to write conditions and iterate over data."
   ]
  },
  {
   "cell_type": "markdown",
   "id": "8baf5f4f-17a9-4c22-9dd2-955d82258258",
   "metadata": {},
   "source": [
    "### **if, else, and elif**\n",
    "Conditional statements allow your program to make decisions based on conditions."
   ]
  },
  {
   "cell_type": "markdown",
   "id": "0493609e-87b1-45dd-957a-2223ac385480",
   "metadata": {
    "jp-MarkdownHeadingCollapsed": true
   },
   "source": [
    "**Syntax:**\n",
    "```python\n",
    "if condition:\n",
    "    # Code to execute if condition is True\n",
    "elif another_condition:\n",
    "    # Code to execute if another_condition is True\n",
    "else:\n",
    "    # Code to execute if none of the above conditions are True\n",
    "```\n",
    "\n",
    "**Execution Order:**\n",
    "\n",
    "- The Python interpreter evaluates the **if statement first.**\n",
    "- If the condition in the if statement is **True**, the associated block of code is executed, and the interpreter **skips** all subsequent elif and else blocks.\n",
    "- If the if condition is **False**, the interpreter checks the conditions of the subsequent elif statements (if any) in order.\n",
    "- If one of the elif conditions evaluates to True, its corresponding block is executed, and the interpreter **skips** the rest of the conditions.\n",
    "- If **none** of the conditions in the if or elif statements are True, the code block under the **else** statement (if present) is executed."
   ]
  },
  {
   "cell_type": "markdown",
   "id": "5001ab37-ab9b-44ba-9e41-be636ad209ad",
   "metadata": {},
   "source": [
    "### **Loops: for and while**\n",
    "\n",
    "\n",
    "Loops let you **repeat actions** efficiently, enabling you to automate repetitive tasks and process collections of data systematically. \n",
    "\n",
    "Instead of writing the same code multiple times, loops allow you to define a set of instructions that can execute repeatedly **for each item in a sequence** (such as a list, string, or range of numbers) or **until a specific condition is met**. This not only saves time but also makes your code cleaner, more concise, and easier to maintain."
   ]
  },
  {
   "cell_type": "markdown",
   "id": "9e543e75",
   "metadata": {},
   "source": [
    "**Logical Diagram**\n",
    "\n",
    "```python\n",
    "if condition_1 is True:\n",
    "    Execute Block 1\n",
    "    Skip all further checks\n",
    "elif condition_2 is True:\n",
    "    Execute Block 2\n",
    "    Skip all further checks\n",
    "elif condition_3 is True:\n",
    "    Execute Block 3\n",
    "    Skip all further checks\n",
    "else:\n",
    "    Execute the else block (if none of the above conditions were True)\n",
    "```\n",
    "\n",
    "**Key Points:**\n",
    "- Only the first condition that evaluates to True is executed.\n",
    "- If no conditions are True, and there's an else block, it acts as a default case.\n",
    "- **All conditions are not checked**: Once a condition is True, the rest of the conditions (elif or else) are ignored.\n",
    "- **Order Matters**: The interpreter evaluates conditions in order. If you place a more general condition first, more specific conditions later in the chain will never be evaluated.\n",
    "\n",
    "---"
   ]
  },
  {
   "cell_type": "code",
   "execution_count": null,
   "id": "541408c4-c64d-44d3-a912-b98b211eee84",
   "metadata": {},
   "outputs": [],
   "source": [
    "# Example: Conditional Statements and Loops\n",
    "# Check pass or fail for multiple students\n",
    "students = [\"Alice\", \"Bob\", \"Charlie\"]\n",
    "grades = [85, 45, 70]\n",
    "\n",
    "for i in range(len(students)):\n",
    "    if grades[i] >= 50:\n",
    "        print(f\"{students[i]} has passed with a grade of {grades[i]}.\")\n",
    "    else:\n",
    "        print(f\"{students[i]} has failed with a grade of {grades[i]}.\")"
   ]
  },
  {
   "cell_type": "markdown",
   "id": "0eeac291-2fb8-415d-a924-8a0627d5ce57",
   "metadata": {},
   "source": [
    "### For Loop\n",
    "The `for` loop is used to **iterate** over a sequence (like a list, tuple, or string).\n",
    "\n",
    "**Syntax:**\n",
    "\n",
    "```python\n",
    "for variable in sequence:\n",
    "    # Code to execute for each item in the sequence\n",
    "```"
   ]
  },
  {
   "cell_type": "code",
   "execution_count": 1,
   "id": "76b83ea1-d52b-4035-9a63-ae728c58e93e",
   "metadata": {},
   "outputs": [
    {
     "name": "stdout",
     "output_type": "stream",
     "text": [
      "40\n",
      "59\n",
      "52\n"
     ]
    }
   ],
   "source": [
    "# Example: For loop\n",
    "for i in [20, 39, 32]:\n",
    "    a = i+20\n",
    "    print(a)\n",
    "    ...\n",
    "\n",
    "# What does it print?"
   ]
  },
  {
   "cell_type": "markdown",
   "id": "fa806eaf-b65a-414f-9ea6-0f9038f6008f",
   "metadata": {},
   "source": [
    "### While Loop\n",
    "The while loop continues as long as a **condition is True**.\n",
    "\n",
    "**Syntax:**\n",
    "```python\n",
    "while condition:\n",
    "    # Code to execute as long as condition is True\n",
    "```"
   ]
  },
  {
   "cell_type": "code",
   "execution_count": null,
   "id": "99c10c65",
   "metadata": {},
   "outputs": [],
   "source": [
    "while YTrue:"
   ]
  },
  {
   "cell_type": "code",
   "execution_count": 3,
   "id": "87f21e57-eb9e-4473-9424-5b139b21724d",
   "metadata": {},
   "outputs": [
    {
     "name": "stdout",
     "output_type": "stream",
     "text": [
      "Count: 0\n",
      "Count: 1\n",
      "Count: 2\n"
     ]
    }
   ],
   "source": [
    "# Example: While loop\n",
    "count = 0\n",
    "\n",
    "while count < 3:\n",
    "    print(\"Count:\", count)\n",
    "    \n",
    "    count += 1\n",
    "    \n",
    "    if count == 2:\n",
    "        break\n",
    "    \n",
    "\n",
    "# What does it print?"
   ]
  },
  {
   "cell_type": "markdown",
   "id": "49fe90a7",
   "metadata": {},
   "source": [
    "---"
   ]
  },
  {
   "cell_type": "markdown",
   "id": "2964755f-ffec-4a1b-bc0b-a144f9ad2c46",
   "metadata": {},
   "source": [
    "## **1.5. Data Structures**"
   ]
  },
  {
   "cell_type": "markdown",
   "id": "74c9ec91-13b6-457a-8d2f-8be1c6b4f288",
   "metadata": {},
   "source": [
    "In Python, we use various data structures to organize and store data.\n",
    "Lists, Tuples, Sets, and Dictionaries are some of the most commonly used data structures.\n",
    "They are essential for creating efficient, readable, and well-organized code."
   ]
  },
  {
   "cell_type": "markdown",
   "id": "8c21dff2-17b5-4722-bd3c-8b1f77155bf0",
   "metadata": {},
   "source": [
    "#### Mutable vs Immutable\n",
    "\n",
    "In Python, the terms mutable and immutable refer to the ability to modify the content or state of an object after it has been created.\n",
    "\n",
    "\n",
    "| Feature                | Mutable Objects                | Immutable Objects                |\n",
    "|------------------------|---------------------------------|----------------------------------|\n",
    "| **Definition**          | Objects whose contents can be changed after creation. | Objects whose contents cannot be changed after creation. |\n",
    "| **Examples**            | Lists, Dictionaries, Sets       | Tuples, Strings, Integers, Floats, Booleans |\n",
    "| **Modification**        | Can be modified in place (e.g., add, remove, change). | Cannot be modified, creating new objects is required. |\n",
    "| **Performance Impact**  | Modifying mutable objects in-place is generally faster. | Creating new objects may involve more memory usage and time. |\n",
    "| **Use Cases**           | Used when data needs to be changed (e.g., modifying a list of items). | Used when data should remain constant and cannot be changed (e.g., coordinates, dates). |\n"
   ]
  },
  {
   "cell_type": "markdown",
   "id": "e09e349e-58d9-492a-a0bc-bd4fe343df9d",
   "metadata": {
    "jp-MarkdownHeadingCollapsed": true
   },
   "source": [
    "### **Lists**\n",
    "\n",
    "A list is an ordered, mutable (changeable), and indexable collection of items.\n",
    "Lists can hold different types of data (e.g., numbers, strings, other lists).\n",
    "\n",
    "**Syntax:**\n",
    "```python\n",
    "my_list = [1, 2, 3, \"hello\", True]\n",
    "```\n",
    "\n",
    "**Key Operations**\n",
    "\n",
    "```python\n",
    "my_list[0] # Accessing elements\n",
    "my_list[0] = 10 # Modifying elements\n",
    "my_list.append(4) # Adding elements\n",
    "my_list.remove(3) # Removing elements \n",
    "my_list[1:3] # Slicing\n",
    "```"
   ]
  },
  {
   "cell_type": "markdown",
   "id": "3c09f7f8-a86f-46d4-b1f3-0db0483bfdf9",
   "metadata": {
    "jp-MarkdownHeadingCollapsed": true
   },
   "source": [
    "### **Tuples**\n",
    "\n",
    "A tuple is an ordered, immutable collection of items.\n",
    "Unlike lists, once created, elements in a tuple cannot be modified.\n",
    "\n",
    "**Syntax:**\n",
    "\n",
    "```python\n",
    "my_tuple = (1, 2, 3, \"hello\", True)\n",
    "```\n",
    "\n",
    "**Key Operations:**\n",
    "\n",
    "```python\n",
    "my_tuple[0] # Accessing elements\n",
    "my_tuple[1:3] # Slicing\n",
    "tuple1 + tuple2 # Concatenating tuples\n",
    "```"
   ]
  },
  {
   "cell_type": "markdown",
   "id": "db0e428f",
   "metadata": {},
   "source": [
    "### **Sets**\n",
    "\n",
    "A set is an unordered collection of unique items.\n",
    "Sets do not allow duplicate elements, and the order of elements is not preserved.\n",
    "\n",
    "**Syntax:**"
   ]
  },
  {
   "cell_type": "code",
   "execution_count": 7,
   "id": "ebeeb888",
   "metadata": {},
   "outputs": [],
   "source": [
    "my_set = {1, 2, 3, 4, 2, 4, 3}"
   ]
  },
  {
   "cell_type": "code",
   "execution_count": 8,
   "id": "45779720",
   "metadata": {},
   "outputs": [
    {
     "data": {
      "text/plain": [
       "{1, 2, 3, 4}"
      ]
     },
     "execution_count": 8,
     "metadata": {},
     "output_type": "execute_result"
    }
   ],
   "source": [
    "my_set"
   ]
  },
  {
   "cell_type": "markdown",
   "id": "f401c371",
   "metadata": {},
   "source": [
    "**Key Operations:**"
   ]
  },
  {
   "cell_type": "code",
   "execution_count": null,
   "id": "48103343",
   "metadata": {},
   "outputs": [],
   "source": [
    "my_set.add(5) # Adding elements\n",
    "my_set.remove(3) # Removing elements\n",
    "set1 | set2 # Set union\n",
    "set1 & set2 # Set intersection\n",
    "set1 - set2 # Set difference"
   ]
  },
  {
   "cell_type": "markdown",
   "id": "a5cad0c3-5f5d-4436-b991-c7a9e5d4e3d1",
   "metadata": {},
   "source": [
    "### **Dictionaries**\n",
    "A dictionary is an unordered collection of key-value pairs. Keys are unique, and values can be any data type.\n",
    "Useful for fast lookups based on keys.\n",
    "\n",
    "**Syntax:**\n",
    "\n",
    "```python\n",
    "\n",
    "my_dict = {\"name\": \"Alice\", \"age\": 25, \"city\": \"New York\"}\n",
    "```\n",
    "\n",
    "**Key Operations:**\n",
    "\n",
    "```python\n",
    "my_dict[\"name\"] # Accessing values\n",
    "my_dict[\"country\"] = \"USA\" # Adding key-value pairs\n",
    "del my_dict[\"age\"]  # Removing items\n",
    "for key in my_dict: # Iterating through keys\n",
    "for value in my_dict.values(): # Iterating through values\n",
    "```"
   ]
  },
  {
   "cell_type": "code",
   "execution_count": 10,
   "id": "31eeea86-c01d-465d-a409-4a151ff6b55b",
   "metadata": {},
   "outputs": [
    {
     "name": "stdout",
     "output_type": "stream",
     "text": [
      "Student Info: {'name': 'Alice', 'age': 20, 'grades': [85, 90, 88]}\n"
     ]
    }
   ],
   "source": [
    "# Example: Data Structures\n",
    "# Using lists, tuples, sets, and dictionaries\n",
    "student_info = {\n",
    "    \"name\": \"Alice\",\n",
    "    \"age\": 20,\n",
    "    \"grades\": [85, 90, 88]\n",
    "}\n",
    "\n",
    "unique_grades = set(student_info[\"grades\"])  # converting grades to a set for uniqueness\n",
    "\n",
    "print(f\"Student Info: {student_info}\")"
   ]
  },
  {
   "cell_type": "code",
   "execution_count": null,
   "id": "6cf68cdf",
   "metadata": {},
   "outputs": [],
   "source": [
    "unique_grades"
   ]
  },
  {
   "cell_type": "markdown",
   "id": "07e497b2-b721-419a-90d8-5422dbfd211c",
   "metadata": {},
   "source": [
    "## **1.6. Functions in Python**"
   ]
  },
  {
   "cell_type": "markdown",
   "id": "08075d8f-c37c-4b1f-80e2-de6695a9a108",
   "metadata": {},
   "source": [
    "A function is a reusable block of code designed to perform a specific task. It helps reduce redundancy, improves readability, and makes your code modular and maintainable.\n",
    "\n",
    "**Defining a Function**\n",
    "\n",
    "In Python, a function is defined using the `def` keyword:\n",
    "\n",
    "```python\n",
    "def function_name(parameters):\n",
    "    \"\"\"Docstring explaining what the function does.\"\"\"\n",
    "    # Code block\n",
    "    return result\n",
    "```\n",
    "\n",
    "**Call a Function**\n",
    "\n",
    "The def statement only creates a function but does not call it. After the def has run, you can can call (run) the function by adding parentheses after the function’s name.\n",
    "\n",
    "```python\n",
    "function_name(parameters)\n",
    "```"
   ]
  },
  {
   "cell_type": "code",
   "execution_count": 11,
   "id": "f93c8f42",
   "metadata": {},
   "outputs": [
    {
     "name": "stdout",
     "output_type": "stream",
     "text": [
      "La media è: 87.66666666666667\n",
      "Average Grade (using function): 87.66666666666667\n"
     ]
    }
   ],
   "source": [
    "# Step 6: Functions\n",
    "# Define a function to calculate grade average\n",
    "def calculate_grades_average(grades):\n",
    "    \n",
    "    if ...:\n",
    "    # verificare che sia una list\n",
    "    # verificare che sia una list di soli float\n",
    "    \n",
    "        avg = sum(grades) / len(grades)\n",
    "        print(f\"La media è: {avg}\")\n",
    "    else:\n",
    "        print(\"errore nella lista di input\")\n",
    "    return avg\n",
    "\n",
    "average = calculate_average(student_info[\"grades\"])\n",
    "print(f\"Average Grade (using function): {average}\")"
   ]
  },
  {
   "cell_type": "markdown",
   "id": "56a84a71-2ed2-4a61-ad15-dc07a4afd79f",
   "metadata": {
    "jp-MarkdownHeadingCollapsed": true
   },
   "source": [
    "# **2. Advanced Functions**\n",
    "**10:45** | Unpacking arguments (*args, **kwargs), lambda functions adn higher-order functions (map, filter, reduce)."
   ]
  },
  {
   "cell_type": "markdown",
   "id": "cee85c1c-4c34-40a5-b005-f11b7f327019",
   "metadata": {},
   "source": [
    "### **2.1. Unpacking Arguments (`*args` and `**kwargs`)**"
   ]
  },
  {
   "cell_type": "markdown",
   "id": "2e4c5a36-6ccc-4ced-a2d1-4bf7e69771a3",
   "metadata": {},
   "source": [
    "Unpacking arguments allows you to write functions that accept a variable number of positional and keyword arguments, making them flexible and reusable.\n",
    "\n",
    "- `*args`: Captures additional positional arguments as a tuple.\n",
    "- `**kwargs`: Captures additional keyword arguments as a dictionary.\n",
    "\n",
    "**Syntax**\n",
    "```python\n",
    "def function_name(*args):\n",
    "    # args is a tuple\n",
    "    pass\n",
    "\n",
    "def function_name(**kwargs):\n",
    "    # kwargs is a dictionary\n",
    "    pass\n",
    "\n",
    "def function_name(*args, **kwargs):\n",
    "    # Both can be used together\n",
    "    pass\n",
    "```"
   ]
  },
  {
   "cell_type": "code",
   "execution_count": 12,
   "id": "7a9e4689-1453-46b9-b5b7-ec45ae357467",
   "metadata": {},
   "outputs": [
    {
     "name": "stdout",
     "output_type": "stream",
     "text": [
      "Name: Alice\n",
      "Traits: Friendly, Curious\n",
      "age: 30\n",
      "occupation: Engineer\n",
      "hobby: Painting\n"
     ]
    }
   ],
   "source": [
    "# Example 2.1: Function to demonstrate *args and **kwargs\n",
    "def describe_person(name, *traits, **details):\n",
    "    print(f\"Name: {name}\")\n",
    "    print(\"Traits:\", \", \".join(traits))\n",
    "    \n",
    "    for key, value in details.items():\n",
    "        print(f\"{key}: {value}\")\n",
    "\n",
    "# Call with positional and keyword arguments\n",
    "describe_person(\n",
    "    \"Alice\",\n",
    "    \"Friendly\", \"Curious\",\n",
    "    age=30, occupation=\"Engineer\", hobby=\"Painting\"\n",
    ")"
   ]
  },
  {
   "cell_type": "markdown",
   "id": "1573d260-e69f-4aee-9959-d0112a716d17",
   "metadata": {},
   "source": [
    "**Explanation**\n",
    "\n",
    "Positional Arguments (*args):\n",
    "Additional arguments like \"Friendly\" and \"Curious\" are captured in the traits tuple.\n",
    "\n",
    "Keyword Arguments (**kwargs):\n",
    "Named arguments like age=30 and occupation=\"Engineer\" are stored in the details dictionary.\n",
    "\n",
    "Flexible Function Calls:\n",
    "The function can handle an arbitrary number of arguments, making it adaptable to various use cases."
   ]
  },
  {
   "cell_type": "markdown",
   "id": "84327f0e-ccd6-4a49-a3c0-7da8bc88cbe8",
   "metadata": {},
   "source": [
    "### **2.2. Lambda Functions**"
   ]
  },
  {
   "cell_type": "markdown",
   "id": "91663900-8020-49b2-831d-077bb9e5ff4c",
   "metadata": {},
   "source": [
    "Lambda functions, also known as anonymous functions, are small, unnamed functions defined using the `lambda` keyword. They are useful for short, simple operations where defining a full function would be unnecessary.\n",
    "\n",
    "- **Use Cases**:  \n",
    "  1. Simple mathematical operations.  \n",
    "  2. One-time-use functions with `map`, `filter`, or `sorted`.  \n",
    "  3. Compact and readable code for straightforward logic.\n",
    "\n",
    "**Syntax**\n",
    "```python\n",
    "lambda arguments: expression\n",
    "```\n",
    "\n",
    "- Arguments: The inputs to the function.\n",
    "- Expression: A single expression whose result is returned (cannot include multiple statements)."
   ]
  },
  {
   "cell_type": "code",
   "execution_count": null,
   "id": "22c033b6",
   "metadata": {},
   "outputs": [],
   "source": [
    "def add(x, y):\n",
    "    return x + y"
   ]
  },
  {
   "cell_type": "code",
   "execution_count": null,
   "id": "c03781ef-5c08-4205-80d2-9e2581d2f464",
   "metadata": {},
   "outputs": [],
   "source": [
    "# Example 2.2: A lambda function to add two numbers\n",
    "add = lambda x, y: x + y\n",
    "\n",
    "print(f\"Addition: {add(10, 5)}\")  # Output: 15"
   ]
  },
  {
   "cell_type": "markdown",
   "id": "fb67808e-75d8-4276-a4f7-26913dc31687",
   "metadata": {},
   "source": [
    "#### Advantages and Limitations\n",
    "\n",
    "- Advantages:\n",
    "    - Concise and easy to write.\n",
    "    - Reduces boilerplate for simple operations.\n",
    "\n",
    "- Limitations:\n",
    "    - Limited to a single expression (cannot have multiple statements).\n",
    "    - Can become less readable for complex logic.\n",
    "\n",
    "\n",
    "**Key Takeaways**\n",
    "- Lambda functions simplify code by enabling quick, one-off function definitions.\n",
    "- They are ideal for use with functions like map, filter, reduce, and sorted.\n",
    "- While useful, they should be used sparingly for readability when more complex logic is required."
   ]
  },
  {
   "cell_type": "markdown",
   "id": "b73d573c-7b41-4f00-af50-50f1dfa24084",
   "metadata": {},
   "source": [
    "## **2.3. Higher-Order Functions**"
   ]
  },
  {
   "cell_type": "markdown",
   "id": "092433e7-30fe-4985-af7f-9f99c2acd7bd",
   "metadata": {
    "jp-MarkdownHeadingCollapsed": true
   },
   "source": [
    "Higher-order functions are functions that either take other functions as arguments, return a function as a result, or both. These are powerful tools for abstracting operations over data and writing cleaner, more modular code.\n",
    "\n",
    "**Syntax**\n",
    "- `map(function, iterable)`: Applies a function to all items in an iterable.\n",
    "- `filter(function, iterable)`: Filters elements based on a function's truthiness.\n",
    "- `reduce(function, iterable)`: Applies a rolling computation to items in an iterable (requires `functools`).\n",
    "\n",
    "**Example**\n",
    "```python\n",
    "from functools import reduce\n",
    "\n",
    "# Data\n",
    "numbers = [1, 2, 3, 4, 5]\n",
    "\n",
    "# map: Square each number\n",
    "squared = list(map(lambda x: x ** 2, numbers))\n",
    "print(f\"Squared: {squared}\")\n",
    "\n",
    "# filter: Keep only even numbers\n",
    "evens = list(filter(lambda x: x % 2 == 0, numbers))\n",
    "print(f\"Evens: {evens}\")\n",
    "\n",
    "# reduce: Compute the product of all numbers\n",
    "product = reduce(lambda x, y: x * y, numbers)\n",
    "print(f\"Product: {product}\")\n",
    "```"
   ]
  },
  {
   "cell_type": "code",
   "execution_count": 13,
   "id": "12d6f05b-bae1-4d44-9148-466993d9044e",
   "metadata": {},
   "outputs": [
    {
     "name": "stdout",
     "output_type": "stream",
     "text": [
      "Sorted by length: ['Bob', 'Alice', 'Charlie']\n"
     ]
    }
   ],
   "source": [
    "# Example 2.3: Using lambda with sorted to sort strings by their lengths\n",
    "names = [\"Charlie\", \"Alice\", \"Bob\"]\n",
    "sorted_names = sorted(names, key=lambda name: len(name))\n",
    "\n",
    "print(f\"Sorted by length: {sorted_names}\")  # Output: ['Bob', 'Alice', 'Charlie']"
   ]
  },
  {
   "cell_type": "code",
   "execution_count": 14,
   "id": "00996dfc-28c0-4b53-9711-18b85388b398",
   "metadata": {},
   "outputs": [
    {
     "name": "stdout",
     "output_type": "stream",
     "text": [
      "Doubled: [2, 4, 6, 8, 10]\n"
     ]
    }
   ],
   "source": [
    "# Example 2.4: Double each number in a list using map and lambda\n",
    "numbers = [1, 2, 3, 4, 5]\n",
    "doubled = list(map(lambda x: x * 2, numbers))\n",
    "\n",
    "print(f\"Doubled: {doubled}\")  # Output: [2, 4, 6, 8, 10]"
   ]
  },
  {
   "cell_type": "code",
   "execution_count": 15,
   "id": "b91c2930-b93f-4a1f-afdd-38b3a9c86517",
   "metadata": {},
   "outputs": [
    {
     "name": "stdout",
     "output_type": "stream",
     "text": [
      "Evens: [2, 4]\n"
     ]
    }
   ],
   "source": [
    "# Example 2.5: Filter out odd numbers from a list\n",
    "numbers = [1, 2, 3, 4, 5]\n",
    "evens = list(filter(lambda x: x % 2 == 0, numbers))\n",
    "\n",
    "print(f\"Evens: {evens}\")  # Output: [2, 4]"
   ]
  },
  {
   "cell_type": "code",
   "execution_count": null,
   "id": "f5f0d335-cf75-490f-a49a-c8fa93dc8cc6",
   "metadata": {},
   "outputs": [],
   "source": [
    "# Example 2.6: Using Lambda with reduce\n",
    "from functools import reduce\n",
    "\n",
    "# Compute the product of a list of numbers\n",
    "numbers = [1, 2, 3, 4]\n",
    "product = reduce(lambda x, y: x * y, numbers)\n",
    "print(f\"Product: {product}\")  # Output: 24"
   ]
  },
  {
   "cell_type": "markdown",
   "id": "5065007a-4943-4fd3-872c-3074fe2e11dd",
   "metadata": {},
   "source": [
    "# **11:15 Break**"
   ]
  },
  {
   "cell_type": "markdown",
   "id": "79081b90-4c6c-4ca1-9121-fd2b0bf61ce9",
   "metadata": {
    "jp-MarkdownHeadingCollapsed": true
   },
   "source": [
    "# **3. Python Syntax Deep Dive**\n",
    "**11:30** | Comprehensions (list, set, dictionary), unpacking operators and nested loops"
   ]
  },
  {
   "cell_type": "markdown",
   "id": "87f386ff-5d02-4db1-8e82-daeb2cb3c994",
   "metadata": {},
   "source": [
    "In this chapter, we will explore advanced aspects of Python syntax, focusing on \n",
    "1. comprehensions (list, set, dictionary)\n",
    "2. unpacking operators\n",
    "3. nested loops\n",
    "\n",
    "These concepts enhance code **readability, efficiency, and maintainability**."
   ]
  },
  {
   "cell_type": "markdown",
   "id": "fd375bed-be7a-424b-925f-86589259bfb7",
   "metadata": {
    "jp-MarkdownHeadingCollapsed": true
   },
   "source": [
    "## **3.1. Comprehensions**\n",
    "\n",
    "Comprehensions are concise ways to create collections like lists, sets, and dictionaries. They allow you to generate and filter elements in a single line of code."
   ]
  },
  {
   "cell_type": "markdown",
   "id": "01e2f8b3-9afb-4d59-ae08-697144d61efc",
   "metadata": {},
   "source": [
    "### **3.1.1 List Comprehensions**\n",
    "\n",
    "**Syntax**\n",
    "```python\n",
    "[expression for item in iterable if condition]\n",
    "```\n",
    "  \n",
    "- Expression: Defines the value to include in the new list.\n",
    "- Iterable: The collection to iterate over.\n",
    "- Condition: Optional filter to include specific items."
   ]
  },
  {
   "cell_type": "code",
   "execution_count": 1,
   "id": "03e35e7c-2518-4fda-9a76-b30756c60fd6",
   "metadata": {},
   "outputs": [
    {
     "name": "stdout",
     "output_type": "stream",
     "text": [
      "[0, 1, 4, 9, 16, 25, 36, 49, 64, 81]\n"
     ]
    }
   ],
   "source": [
    "# Example 3.1: Create a list of squares\n",
    "squares = [x**2 for x in range(10)]\n",
    "print(squares)  # Output: [0, 1, 4, 9, 16, 25, 36, 49, 64, 81]"
   ]
  },
  {
   "cell_type": "code",
   "execution_count": 2,
   "id": "d1df8ca2-cf61-46e1-80fc-5587ec0a07df",
   "metadata": {},
   "outputs": [
    {
     "name": "stdout",
     "output_type": "stream",
     "text": [
      "[0, 2, 4, 6, 8]\n"
     ]
    }
   ],
   "source": [
    "# Example 3.2: Filter even numbers\n",
    "evens = [x for x in range(10) if x % 2 == 0]\n",
    "print(evens)  # Output: [0, 2, 4, 6, 8]"
   ]
  },
  {
   "cell_type": "markdown",
   "id": "df0ac17d-a522-4d6e-9faa-51b752d70368",
   "metadata": {},
   "source": [
    "### **3.1.2 Set Comprehensions**\n",
    "\n",
    "**Syntax**\n",
    "```python\n",
    "{expression for item in iterable if condition}\n",
    "```\n",
    "\n",
    "Similar to list comprehensions but generates a set (unique values)."
   ]
  },
  {
   "cell_type": "code",
   "execution_count": 3,
   "id": "a3ce8aa8-ccf6-417e-9e53-0a400dd0965f",
   "metadata": {},
   "outputs": [
    {
     "name": "stdout",
     "output_type": "stream",
     "text": [
      "{'e', 'o'}\n"
     ]
    }
   ],
   "source": [
    "# Example 3.3: Create a set of unique vowels\n",
    "text = \"hello world\"\n",
    "vowels = {char for char in text if char in 'aeiou'}\n",
    "print(vowels)  # Output: {'o', 'e'}"
   ]
  },
  {
   "cell_type": "markdown",
   "id": "5a203f11-5d4c-49bf-8c98-db3d569e6c35",
   "metadata": {},
   "source": [
    "### **3.1.3 Dictionary Comprehensions**\n",
    "\n",
    "**Syntax**\n",
    "```python\n",
    "{key: value for item in iterable if condition}\n",
    "```\n",
    "\n",
    "Used to create dictionaries dynamically."
   ]
  },
  {
   "cell_type": "code",
   "execution_count": 4,
   "id": "32a01555-7c49-452d-899f-94ebfb2e33d2",
   "metadata": {},
   "outputs": [
    {
     "name": "stdout",
     "output_type": "stream",
     "text": [
      "{0: 0, 1: 1, 2: 4, 3: 9, 4: 16}\n"
     ]
    }
   ],
   "source": [
    "# Example 3.4: Create a dictionary with numbers and their squares\n",
    "squares_dict = {x: x**2 for x in range(5)}\n",
    "print(squares_dict)  # Output: {0: 0, 1: 1, 2: 4, 3: 9, 4: 16}"
   ]
  },
  {
   "cell_type": "code",
   "execution_count": 5,
   "id": "c8a0bd42-abb1-4fb2-a1ae-0c147372eeba",
   "metadata": {},
   "outputs": [
    {
     "name": "stdout",
     "output_type": "stream",
     "text": [
      "{3: 9, 4: 16}\n"
     ]
    }
   ],
   "source": [
    "# Example 3.5: Filter dictionary values\n",
    "filtered = {key: value for key, value in squares_dict.items() if value > 5}\n",
    "print(filtered)  # Output: {3: 9, 4: 16}"
   ]
  },
  {
   "cell_type": "code",
   "execution_count": 6,
   "id": "5ba94eef-06e1-4426-96ef-7d53f17db45e",
   "metadata": {},
   "outputs": [],
   "source": [
    "filtered_squares_dict = {key: value for key, value in {x: x**2 for x in range(5)}.items() if value > 5}"
   ]
  },
  {
   "cell_type": "code",
   "execution_count": 7,
   "id": "ea21472b-8c2c-4050-a4a0-b5037a4c63ee",
   "metadata": {},
   "outputs": [
    {
     "data": {
      "text/plain": [
       "{3: 9, 4: 16}"
      ]
     },
     "execution_count": 7,
     "metadata": {},
     "output_type": "execute_result"
    }
   ],
   "source": [
    "filtered_squares_dict"
   ]
  },
  {
   "cell_type": "markdown",
   "id": "f4b7df43-37bd-444e-98ac-c8980c92eac6",
   "metadata": {
    "jp-MarkdownHeadingCollapsed": true
   },
   "source": [
    "## **3.2. Unpacking Operators**\n",
    "\n",
    "Unpacking operators allow you to extract elements from iterables or dictionaries into individual variables or collections."
   ]
  },
  {
   "cell_type": "markdown",
   "id": "d436e23b-0f2a-4f8d-ae29-abc3b4e6d4e9",
   "metadata": {},
   "source": [
    "### **3.2.1 Iterable Unpacking**\n",
    "\n",
    "**Syntax**\n",
    "```python\n",
    "a, b, *rest = iterable\n",
    "```\n",
    "\n",
    "*rest collects remaining elements into a list"
   ]
  },
  {
   "cell_type": "code",
   "execution_count": 8,
   "id": "86885043-33ce-4a64-8ea3-771d2992d683",
   "metadata": {},
   "outputs": [
    {
     "name": "stdout",
     "output_type": "stream",
     "text": [
      "1 2 [3, 4, 5]\n"
     ]
    }
   ],
   "source": [
    "# Example 3.6: Unpack list elements\n",
    "numbers = [1, 2, 3, 4, 5]\n",
    "a, b, *rest = numbers\n",
    "print(a, b, rest)  # Output: 1 2 [3, 4, 5]"
   ]
  },
  {
   "cell_type": "code",
   "execution_count": 10,
   "id": "1676661d-7dd4-44e4-9f08-a7db16f16632",
   "metadata": {},
   "outputs": [
    {
     "data": {
      "text/plain": [
       "[3, 4, 5]"
      ]
     },
     "execution_count": 10,
     "metadata": {},
     "output_type": "execute_result"
    }
   ],
   "source": [
    "rest"
   ]
  },
  {
   "cell_type": "markdown",
   "id": "01a9a723-3fb5-453b-8f92-d320621eac27",
   "metadata": {},
   "source": [
    "### **3.2.2 Dictionary Unpacking**\n",
    "\n",
    "**Syntax**\n",
    "```python\n",
    "**dictionary\n",
    "```\n",
    "\n",
    "Expands dictionary key-value pairs."
   ]
  },
  {
   "cell_type": "code",
   "execution_count": 18,
   "id": "350fac4e-fac5-445d-b883-3d445bd40dae",
   "metadata": {},
   "outputs": [
    {
     "name": "stdout",
     "output_type": "stream",
     "text": [
      "{'a': 1, 'b': 2, 'c': 3, 'd': 4}\n"
     ]
    }
   ],
   "source": [
    "# Example 3.7: Merge dictionaries\n",
    "dict1 = {'a': 1, 'b': 2}\n",
    "dict2 = {'c': 3, 'd': 4}\n",
    "\n",
    "merged = {**dict1, **dict2}\n",
    "merged = {'a': 1, 'b': 2, 'c': 3, 'd': 4}\n",
    "\n",
    "print(merged)  # Output: {'a': 1, 'b': 2, 'c': 3, 'd': 4}"
   ]
  },
  {
   "cell_type": "code",
   "execution_count": 20,
   "id": "af720533-af2e-46e5-8ac1-703988e8b8a9",
   "metadata": {},
   "outputs": [
    {
     "data": {
      "text/plain": [
       "{'a': 1, 'b': 2, 'c': 3, 'd': 4}"
      ]
     },
     "execution_count": 20,
     "metadata": {},
     "output_type": "execute_result"
    }
   ],
   "source": [
    "dict1 | dict2"
   ]
  },
  {
   "cell_type": "code",
   "execution_count": null,
   "id": "19802bff-f290-43bb-9ef7-8885d00e84f0",
   "metadata": {},
   "outputs": [],
   "source": []
  },
  {
   "cell_type": "markdown",
   "id": "b93f6c5e-6c02-4b06-9e8c-396b38926fa3",
   "metadata": {},
   "source": [
    "### **3.2.3 Function Argument Unpacking**\n",
    "\n",
    "**Syntax**\n",
    "```python\n",
    "*args (positional), **kwargs (keyword)\n",
    "```"
   ]
  },
  {
   "cell_type": "code",
   "execution_count": 24,
   "id": "d2afe6f9-8530-4b00-9f7d-599e2b26338e",
   "metadata": {},
   "outputs": [
    {
     "name": "stdout",
     "output_type": "stream",
     "text": [
      "Name: Alice\n",
      "Age: 30\n"
     ]
    }
   ],
   "source": [
    "# Example 3.8\n",
    "def display_info(name, age):\n",
    "    print(f\"Name: {name}\\nAge: {age}\")\n",
    "\n",
    "data = {\"name\": \"Alice\", \"age\": 30}\n",
    "display_info(**data)  # Output: Name: Alice, Age: 30"
   ]
  },
  {
   "cell_type": "code",
   "execution_count": 27,
   "id": "ab997a69-0323-4554-b9fd-1015639f6aa2",
   "metadata": {},
   "outputs": [
    {
     "name": "stdout",
     "output_type": "stream",
     "text": [
      "Name: Giuseppe\n",
      "Age: 30\n"
     ]
    }
   ],
   "source": [
    "display_info(age=30, name=\"Giuseppe\")"
   ]
  },
  {
   "cell_type": "markdown",
   "id": "46791d3f-d68c-4026-9032-efb88ecdbd18",
   "metadata": {
    "jp-MarkdownHeadingCollapsed": true
   },
   "source": [
    "## **3.3 Nested Loops**\n",
    "\n",
    "Nested loops are loops inside loops. They are commonly used to iterate over multi-dimensional data or perform complex operations.\n",
    "\n",
    "**Syntax**\n",
    "```python\n",
    "for outer in iterable1:\n",
    "    for inner in iterable2:\n",
    "        # Perform operations\n",
    "```\n",
    "    "
   ]
  },
  {
   "cell_type": "code",
   "execution_count": 28,
   "id": "97d6903a-e66f-458b-8721-0ed9d9a09abf",
   "metadata": {},
   "outputs": [
    {
     "name": "stdout",
     "output_type": "stream",
     "text": [
      "1 2 3 4 5 6 7 8 9 "
     ]
    }
   ],
   "source": [
    "# Example 3.9: Working with Nested Lists\n",
    "\n",
    "# Print elements of a 2D list\n",
    "matrix = [[1, 2, 3], [4, 5, 6], [7, 8, 9]]\n",
    "\n",
    "for row in matrix:\n",
    "    for element in row:\n",
    "        print(element, end=\" \")  # Output: 1 2 3 4 5 6 7 8 9"
   ]
  },
  {
   "cell_type": "code",
   "execution_count": null,
   "id": "919401b4-3fdf-4615-8c76-4f335cb21706",
   "metadata": {},
   "outputs": [],
   "source": [
    "# Example 3.10: List Comprehensions with Nested Loops\n",
    "\n",
    "# Flatten a 2D list\n",
    "flat_list = [element for row in matrix for element in row]\n",
    "print(flat_list)  # Output: [1, 2, 3, 4, 5, 6, 7, 8, 9]"
   ]
  },
  {
   "cell_type": "markdown",
   "id": "67df7243-1c51-418a-8b55-bd206ffbe69f",
   "metadata": {},
   "source": [
    "### Key Takeaway\n",
    "- Comprehensions: Enable concise and readable collection creation (list, set, dict).\n",
    "- Unpacking Operators: Simplify data extraction and manipulation for iterables and dictionaries.\n",
    "- Nested Loops: Useful for working with multi-dimensional data or complex logic.\n",
    "\n",
    "These advanced syntax features empower you to write Python code that is both efficient and elegant."
   ]
  },
  {
   "cell_type": "markdown",
   "id": "f20ea8d5-4595-4321-bd4e-032bfd53f4cc",
   "metadata": {},
   "source": [
    "# **4. Handling Text, CSV, and JSON Files**\n",
    "**12:00** | Explore reading, writing, and processing large files efficiently. "
   ]
  },
  {
   "cell_type": "markdown",
   "id": "18e87281-4c81-4ad5-ab58-39fc5ecd6c65",
   "metadata": {},
   "source": [
    "In this chapter, we will explore how to handle different types of files: text files, CSV files, and JSON files. We will also look into techniques for efficiently processing large files."
   ]
  },
  {
   "cell_type": "markdown",
   "id": "16e9b08e-927b-42c9-98a4-d85aaa56eec2",
   "metadata": {},
   "source": [
    "## **4.1. Handling Text Files**\n",
    "\n",
    "Text files are simple, unformatted files commonly used for data storage and processing. Python's built-in `open` function allows us to read from and write to text files easily.\n",
    "\n",
    "**Syntax**\n",
    "```python\n",
    "# Open a file for reading\n",
    "with open('filename.txt', 'r') as file:\n",
    "    content = file.read()\n",
    "\n",
    "# Open a file for writing\n",
    "with open('filename.txt', 'w') as file:\n",
    "    file.write('Some text')\n",
    "```"
   ]
  },
  {
   "cell_type": "code",
   "execution_count": 29,
   "id": "ad01738e-cee6-4faf-b268-0925657f8ac5",
   "metadata": {},
   "outputs": [],
   "source": [
    "# Example 4.1: Writing to a text file\n",
    "with open('temp/example.txt', 'w') as file:\n",
    "    file.write(\"Hello, World!\\nThis is a sample text file.\")"
   ]
  },
  {
   "cell_type": "code",
   "execution_count": 30,
   "id": "094e36b2-cc3d-460b-92b4-0b19358320bb",
   "metadata": {},
   "outputs": [
    {
     "name": "stdout",
     "output_type": "stream",
     "text": [
      "Hello, World!\n",
      "This is a sample text file.\n"
     ]
    }
   ],
   "source": [
    "# Example 4.2: Reading from a text file\n",
    "with open('temp/example.txt', 'r') as file:\n",
    "    content = file.read()\n",
    "    print(content)"
   ]
  },
  {
   "cell_type": "code",
   "execution_count": 32,
   "id": "dad42d28-4edc-4b98-bca6-d4ff55ec9135",
   "metadata": {},
   "outputs": [
    {
     "name": "stdout",
     "output_type": "stream",
     "text": [
      "<_io.TextIOWrapper name='temp/example.txt' mode='r' encoding='UTF-8'>\n",
      "Line: Hello, World!\n",
      "Line: This is a sample text file.\n"
     ]
    }
   ],
   "source": [
    "# Example 4.3: Processing line by line\n",
    "with open('temp/example.txt', 'r') as file:\n",
    "    print(file)\n",
    "    for line in file:\n",
    "        print(f\"Line: {line.strip()}\")"
   ]
  },
  {
   "cell_type": "code",
   "execution_count": 33,
   "id": "4d19fee5-2615-438c-b8b7-b6870e0541f7",
   "metadata": {},
   "outputs": [],
   "source": [
    "file = open('temp/example.txt', 'r')"
   ]
  },
  {
   "cell_type": "code",
   "execution_count": 35,
   "id": "740f0aa7-1dfd-44a3-955e-d9be930d9ee3",
   "metadata": {},
   "outputs": [
    {
     "data": {
      "text/plain": [
       "'Hello, World!\\n'"
      ]
     },
     "execution_count": 35,
     "metadata": {},
     "output_type": "execute_result"
    }
   ],
   "source": [
    "file.readline()"
   ]
  },
  {
   "cell_type": "code",
   "execution_count": 36,
   "id": "54ce65e3-eae0-4143-b0ea-636aa8a2aa61",
   "metadata": {},
   "outputs": [],
   "source": [
    "file.close()"
   ]
  },
  {
   "cell_type": "markdown",
   "id": "86e8eff6-d7d4-46b8-b6ae-ba699bc7f0c3",
   "metadata": {},
   "source": [
    "## **4.2. Handling CSV Files**\n",
    "\n",
    "CSV (Comma-Separated Values) files are commonly used for storing tabular data. Python's csv module simplifies reading and writing CSV files.\n",
    "\n",
    "**Syntax**\n",
    "```python\n",
    "import csv\n",
    "\n",
    "# Reading a CSV file\n",
    "with open('filename.csv', 'r') as file:\n",
    "    reader = csv.reader(file)\n",
    "    for row in reader:\n",
    "        print(row)\n",
    "\n",
    "# Writing to a CSV file\n",
    "with open('filename.csv', 'w', newline='') as file:\n",
    "    writer = csv.writer(file)\n",
    "    writer.writerow(['Column1', 'Column2'])\n",
    "    writer.writerow(['Value1', 'Value2'])\n",
    "```"
   ]
  },
  {
   "cell_type": "code",
   "execution_count": 37,
   "id": "91d57622-54cd-484a-8ac0-1468113f965b",
   "metadata": {},
   "outputs": [
    {
     "name": "stdout",
     "output_type": "stream",
     "text": [
      "Row: ['Name', 'Age', 'City']\n",
      "Row: ['Alice', '30', 'New York']\n",
      "Row: ['Bob', '25', 'San Francisco']\n"
     ]
    }
   ],
   "source": [
    "import csv\n",
    "\n",
    "# Example 4.4: Writing data to a CSV file\n",
    "with open('temp/data.csv', 'w', newline='') as file:\n",
    "    writer = csv.writer(file)\n",
    "    writer.writerow(['Name', 'Age', 'City'])\n",
    "    writer.writerow(['Alice', 30, 'New York'])\n",
    "    writer.writerow(['Bob', 25, 'San Francisco'])\n",
    "\n",
    "# Example 4.5: Reading data from a CSV file\n",
    "with open('temp/data.csv', 'r') as file:\n",
    "    reader = csv.reader(file)\n",
    "    for row in reader:\n",
    "        print(f\"Row: {row}\")"
   ]
  },
  {
   "cell_type": "markdown",
   "id": "8839395c-9850-42c4-a863-bec341a5669d",
   "metadata": {},
   "source": [
    "## **4.3. Handling JSON Files**\n",
    "\n",
    "JSON (JavaScript Object Notation) is a popular format for storing and exchanging data, especially in web applications. Python's json module provides methods to parse JSON strings and files and convert data into JSON format.\n",
    "\n",
    "**Syntax**\n",
    "```python\n",
    "import json\n",
    "\n",
    "# Reading a JSON file\n",
    "with open('filename.json', 'r') as file:\n",
    "    data = json.load(file)\n",
    "\n",
    "# Writing to a JSON file\n",
    "with open('filename.json', 'w') as file:\n",
    "    json.dump(data, file, indent=4)\n",
    "```"
   ]
  },
  {
   "cell_type": "code",
   "execution_count": 38,
   "id": "5cf7a21d-7ead-4e22-b7fd-21ff31732b68",
   "metadata": {},
   "outputs": [
    {
     "name": "stdout",
     "output_type": "stream",
     "text": [
      "{'name': 'Alice', 'age': 30, 'city': 'New York', 'skills': ['Python', 'Machine Learning', 'Web Development']}\n"
     ]
    }
   ],
   "source": [
    "import json\n",
    "\n",
    "# Example 4.6: Writing data to a JSON file\n",
    "data = {\n",
    "    \"name\": \"Alice\",\n",
    "    \"age\": 30,\n",
    "    \"city\": \"New York\",\n",
    "    \"skills\": [\"Python\", \"Machine Learning\", \"Web Development\"]\n",
    "}\n",
    "\n",
    "with open('temp/data.json', 'w') as file:\n",
    "    json.dump(data, file, indent=4)\n",
    "\n",
    "# Example 4.7: Reading data from a JSON file\n",
    "with open('temp/data.json', 'r') as file:\n",
    "    loaded_data = json.load(file)\n",
    "    print(loaded_data)"
   ]
  },
  {
   "cell_type": "markdown",
   "id": "675c15e5-cb11-4bd3-af12-791b4850a7dc",
   "metadata": {
    "jp-MarkdownHeadingCollapsed": true
   },
   "source": [
    "## **4.4. Bonus: Processing Large Files Efficiently**\n",
    "\n",
    "For large files, it's crucial to read and process data incrementally to avoid memory issues. Python's file handling supports line-by-line processing and chunk-based reading."
   ]
  },
  {
   "cell_type": "code",
   "execution_count": null,
   "id": "d5420e54-0787-46f1-864a-31e50b3a602a",
   "metadata": {},
   "outputs": [],
   "source": [
    "# Example 4.8: Processing Large Text Files\n",
    "# Reading a large file line by line\n",
    "with open('large_file.txt', 'r') as file:\n",
    "    for line in file:\n",
    "        process(line)  # Replace with your processing logic"
   ]
  },
  {
   "cell_type": "code",
   "execution_count": null,
   "id": "1638f552-f854-4a01-904e-a8d8490a9cb1",
   "metadata": {},
   "outputs": [],
   "source": [
    "# Example 4.9: Processing Large JSON Files\n",
    "# Read JSON objects one by one from a file\n",
    "with open('large_file.json', 'r') as file:\n",
    "    for line in file:\n",
    "        record = json.loads(line)\n",
    "        print(record)  # Process each JSON object"
   ]
  },
  {
   "cell_type": "code",
   "execution_count": null,
   "id": "e4bc2fbc-320d-46fd-94e9-971a2a5c4750",
   "metadata": {},
   "outputs": [],
   "source": [
    "# Example 4.10: Example: Chunk-Based Reading\n",
    "# Reading large files in chunks\n",
    "chunk_size = 1024  # 1 KB\n",
    "with open('large_file.txt', 'r') as file:\n",
    "    while chunk := file.read(chunk_size):\n",
    "        process(chunk)  # Replace with your processing logic"
   ]
  },
  {
   "cell_type": "markdown",
   "id": "57225930-5b41-4f45-9bbc-713689db7d60",
   "metadata": {},
   "source": [
    "### Key Takeaway\n",
    "\n",
    "- Text Files: Use open() for reading, writing, and processing text files.\n",
    "- CSV Files: Leverage Python's csv module for structured data in CSV format.\n",
    "- JSON Files: Use Python's json module to handle JSON data easily.\n",
    "- Efficient Processing: Read large files incrementally with line-by-line or chunk-based approaches to manage memory effectively."
   ]
  },
  {
   "cell_type": "markdown",
   "id": "29b36b9f-ff22-46c2-a740-845d56ef21eb",
   "metadata": {
    "jp-MarkdownHeadingCollapsed": true
   },
   "source": [
    "# **5. Error Handling Basics**"
   ]
  },
  {
   "cell_type": "markdown",
   "id": "d8918889-657c-4595-9ec7-aff29a0cdb7a",
   "metadata": {},
   "source": [
    "In this chapter, we will explore how to handle errors in Python using `try-except` blocks, raise exceptions, and design robust error-handling mechanisms."
   ]
  },
  {
   "cell_type": "markdown",
   "id": "7f3bcabb-9178-4c56-8205-5267f854f4a0",
   "metadata": {
    "jp-MarkdownHeadingCollapsed": true
   },
   "source": [
    "## **5.1. Introduction to Error Handling**"
   ]
  },
  {
   "cell_type": "markdown",
   "id": "e6a1429e-d977-48ab-9dfa-f911148bb574",
   "metadata": {},
   "source": [
    "### **Why Handle Errors?**\n",
    "Errors, also known as exceptions, occur when something goes wrong during code execution. Error handling ensures that your program can handle unexpected situations gracefully without crashing."
   ]
  },
  {
   "cell_type": "markdown",
   "id": "a9f721d1-1752-450a-9a43-3c08806fb089",
   "metadata": {},
   "source": [
    "### **Common Errors in Python**\n",
    "- **SyntaxError**: Incorrect syntax in code.\n",
    "- **ValueError**: Invalid value provided to a function or operation.\n",
    "- **IndexError**: Accessing an out-of-range index in a list.\n",
    "- **KeyError**: Accessing a non-existent key in a dictionary.\n",
    "- **FileNotFoundError**: Trying to access a file that doesn’t exist.\n",
    "\n",
    "---"
   ]
  },
  {
   "cell_type": "markdown",
   "id": "36302016-97a7-48e7-a216-a3305470e001",
   "metadata": {
    "jp-MarkdownHeadingCollapsed": true
   },
   "source": [
    "## **5.2. Using `try-except` Blocks**"
   ]
  },
  {
   "cell_type": "markdown",
   "id": "056de8c1-2954-44a3-b70f-f06b4c808087",
   "metadata": {
    "jp-MarkdownHeadingCollapsed": true
   },
   "source": [
    "**Syntax**\n",
    "```python\n",
    "try:\n",
    "    # Code that might raise an exception\n",
    "    risky_code()\n",
    "except ExceptionType:\n",
    "    # Handle the exception\n",
    "    handle_error()\n",
    "```\n",
    "\n",
    "- try block: Contains the code that might raise an exception.\n",
    "- except block: Executes when an exception occurs."
   ]
  },
  {
   "cell_type": "code",
   "execution_count": null,
   "id": "96b3f473-5e20-42c0-8515-5cff81471800",
   "metadata": {},
   "outputs": [],
   "source": [
    "# Example\n",
    "\n",
    "try:\n",
    "    num = int(input(\"Enter a number: \"))\n",
    "    result = 10 / num\n",
    "    print(f\"Result: {result}\")\n",
    "except ZeroDivisionError:\n",
    "    print(\"Error: Division by zero is not allowed.\")\n",
    "except ValueError:\n",
    "    print(\"Error: Please enter a valid number.\")"
   ]
  },
  {
   "cell_type": "markdown",
   "id": "d388305c-6fae-47b6-8811-37ce2b5de704",
   "metadata": {
    "jp-MarkdownHeadingCollapsed": true
   },
   "source": [
    "## **5.3. Raising Exceptions**"
   ]
  },
  {
   "cell_type": "markdown",
   "id": "91181935-46cf-40e9-8c6b-8b5472d2a726",
   "metadata": {},
   "source": [
    "You can intentionally raise exceptions to signal that something unexpected occurred. Use the raise keyword for this purpose.\n",
    "\n",
    "**Syntax**\n",
    "```python\n",
    "raise ExceptionType(\"Error message\")\n",
    "```"
   ]
  },
  {
   "cell_type": "code",
   "execution_count": null,
   "id": "3f907a74-56e4-4c45-a5c1-def8a295b6c0",
   "metadata": {},
   "outputs": [],
   "source": [
    "# Example\n",
    "def validate_age(age):\n",
    "    if age < 0:\n",
    "        raise ValueError(\"Age cannot be negative!\")\n",
    "    print(f\"Age is valid: {age}\")\n",
    "\n",
    "try:\n",
    "    validate_age(-5)\n",
    "except ValueError as e:\n",
    "    print(f\"Caught an exception: {e}\")"
   ]
  },
  {
   "cell_type": "markdown",
   "id": "7a814b80-39ac-4e1d-ae50-41bac6976008",
   "metadata": {
    "jp-MarkdownHeadingCollapsed": true
   },
   "source": [
    "## **5.4. Using else and finally**"
   ]
  },
  {
   "cell_type": "markdown",
   "id": "fdeb0c12-28ce-4e46-89a1-f5063e81b507",
   "metadata": {},
   "source": [
    "- The **else** Clause: Executes if no exceptions occur in the try block.\n",
    "- The **finally** Clause: Always executes, regardless of whether an exception was raised. Useful for cleanup tasks.\n",
    "\n",
    "**Syntax**\n",
    "```python\n",
    "try:\n",
    "    risky_code()\n",
    "except ExceptionType:\n",
    "    handle_error()\n",
    "else:\n",
    "    print(\"No exceptions occurred!\")\n",
    "finally:\n",
    "    print(\"This block always executes.\")\n",
    "```"
   ]
  },
  {
   "cell_type": "code",
   "execution_count": null,
   "id": "f5252b12-c88f-4a71-907c-e9e3795eb4de",
   "metadata": {},
   "outputs": [],
   "source": [
    "# Example\n",
    "\n",
    "try:\n",
    "    with open(\"example.txt\", \"r\") as file:\n",
    "        content = file.read()\n",
    "        print(content)\n",
    "except FileNotFoundError:\n",
    "    print(\"Error: The file was not found.\")\n",
    "else:\n",
    "    print(\"File read successfully.\")\n",
    "finally:\n",
    "    print(\"Finished file operation.\")"
   ]
  },
  {
   "cell_type": "markdown",
   "id": "5ae895cd-b88d-4b9a-acca-21f4cca65c7d",
   "metadata": {},
   "source": [
    "## **5.5. Designing Robust Error-Handling Mechanisms**"
   ]
  },
  {
   "cell_type": "markdown",
   "id": "7b671edf-e1f9-4c4e-9fec-53fe2b3a841a",
   "metadata": {},
   "source": [
    "**Tips for Robust Error Handling**: \n",
    "\n",
    "1. **Catch Specific Exceptions**: Avoid using a generic except clause unless necessary. This improves readability and debugging.\n",
    "```python\n",
    "try:\n",
    "    risky_code()\n",
    "except (ValueError, TypeError):\n",
    "    handle_specific_error()\n",
    "```\n",
    "\n",
    "2. **Log Errors**: Use logging for detailed error tracking.\n",
    "\n",
    "```python\n",
    "import logging\n",
    "\n",
    "try:\n",
    "    risky_code()\n",
    "except Exception as e:\n",
    "    logging.error(f\"An error occurred: {e}\")\n",
    "```\n",
    "\n",
    "3. **Graceful Degradation**: Allow your program to continue running even when an error occurs.\n",
    "\n",
    "```python\n",
    "try:\n",
    "    risky_code()\n",
    "except Exception:\n",
    "    print(\"Continuing with default behavior...\")\n",
    "```\n",
    "\n",
    "4. **Raise Custom Exceptions**: Create your own exception classes for specific errors in your application.\n",
    "\n",
    "```python\n",
    "class CustomError(Exception):\n",
    "    pass\n",
    "\n",
    "raise CustomError(\"This is a custom error message!\")\n",
    "```"
   ]
  },
  {
   "cell_type": "markdown",
   "id": "ed314854-72bf-4be8-9845-cc29b435b2a2",
   "metadata": {},
   "source": [
    "**Key Takeaway**:\n",
    "\n",
    "- Use try-except blocks to catch and handle exceptions.\n",
    "- Employ raise to signal errors intentionally.\n",
    "- Leverage else and finally for additional control flow.\n",
    "- Implement robust error-handling practices like catching specific exceptions, logging, and creating custom exceptions.\n",
    "- Error handling ensures that your programs are more reliable and user-friendly, even when unexpected issues arise."
   ]
  }
 ],
 "metadata": {
  "kernelspec": {
   "display_name": "Python 3 (ipykernel)",
   "language": "python",
   "name": "python3"
  },
  "language_info": {
   "codemirror_mode": {
    "name": "ipython",
    "version": 3
   },
   "file_extension": ".py",
   "mimetype": "text/x-python",
   "name": "python",
   "nbconvert_exporter": "python",
   "pygments_lexer": "ipython3",
   "version": "3.11.7"
  }
 },
 "nbformat": 4,
 "nbformat_minor": 5
}
